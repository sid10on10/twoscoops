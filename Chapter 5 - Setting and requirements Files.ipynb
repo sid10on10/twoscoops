{
 "cells": [
  {
   "cell_type": "markdown",
   "metadata": {},
   "source": [
    "# Best practices\n",
    "\n",
    "1. _Experienced_ Django developers _stay away_ from trying to change settings in **production** since they require \n",
    "**server restart**.\n",
    "2.  All settings files need to be version control >\n",
    "3. Don't Repeat youself(DRY) > you should inherit from a base settings file rather than cutting and pasting from one from one file to another.\n",
    "4. Keep secret key safe > they should be kept out of version control\n",
    "\n",
    "5. SECRET_KEY, _production database passwords_ and API key settings to services like Amazon, stripe.AWS Keys , oauth_tokens also need to be protected."
   ]
  },
  {
   "cell_type": "markdown",
   "metadata": {},
   "source": [
    "### Using Multiple Settings Files\n",
    "1. you will have settings directory containing your settings files.something like follwoing\n"
   ]
  },
  {
   "cell_type": "markdown",
   "metadata": {},
   "source": [
    "settings/\n",
    "\n",
    "    __init__.py\n",
    "    base.py\n",
    "    local.py\n",
    "    staging.py\n",
    "    test.py\n",
    "    production.py"
   ]
  },
  {
   "cell_type": "markdown",
   "metadata": {},
   "source": [
    "base.py - settings common to all instances of the project.\n",
    "\n",
    "local.py - when you are working on project locally.settings include **Debug mode**, log_level, activation of developer tools like django-bebug-toolbar dev name it dev.py.\n",
    "\n",
    "staging.py - semi-private version of site on production server.Managers and clients would be looking at it before your work is moved to production.\n",
    "\n",
    "test.py - settings for running tests including test runners, in-memory database definitions and log settings.\n",
    "\n",
    "production.py - servers that hosts the real websites, sometimes called as prod.py.\n",
    "\n",
    "2. if you have special-purpose servers, you might have custom settings files for each of them. \n",
    "\n",
    "python manage.py shell --settings=settings.local_siddhant\n",
    "\n",
    "python manage.py runserver --settings=settings.local_siddhant 8000\n",
    "\n",
    "python manage.py runserver --settings=settings.local\n",
    "\n",
    "python manage.py shell --settings=settings.staging\n",
    "\n",
    "python manage.py runserver --settings=settings.production\n",
    "\n",
    "\n",
    "3. django-admin.py at the command line works without the --settings option."
   ]
  },
  {
   "cell_type": "markdown",
   "metadata": {},
   "source": [
    "### A development settings Example"
   ]
  },
  {
   "cell_type": "code",
   "execution_count": null,
   "metadata": {},
   "outputs": [],
   "source": [
    "# settings/local.py\n",
    "from .base import *\n",
    "\n",
    "DEBUG = True\n",
    "TEMPLATE_DEBUG = DEBUG\n",
    "\n",
    "EMAIL_BACKEND = 'django.core.mail.backends.console.EmailBackend'\n",
    "\n",
    "DATABASES = {\n",
    "    \"default\": {\n",
    "        \"ENGINE\": \"django.db.backends.postgresql_psycopg2\",\n",
    "        \"NAME\": \"twoscoops\",\n",
    "        \"USER\": \"postgres\",\n",
    "        \"PASSWORD\": \"\",\n",
    "        \"HOST\": \"localhost\",\n",
    "        \"PORT\": \"\",\n",
    "        \n",
    "    }\n",
    "}\n",
    "\n",
    "INSTALLED_APPS += (\"debug_toolbar\", )"
   ]
  },
  {
   "cell_type": "markdown",
   "metadata": {},
   "source": [
    "### Multiple Development Settings "
   ]
  },
  {
   "cell_type": "code",
   "execution_count": null,
   "metadata": {},
   "outputs": [],
   "source": [
    "# settings/dev_siddhant.py\n",
    "\n",
    "from .local import *\n",
    "\n",
    "# set short cache timeout \n",
    "CACHE_TIMEOUT = 30\n"
   ]
  },
  {
   "cell_type": "markdown",
   "metadata": {},
   "source": [
    "setting/\n",
    "\n",
    "    __init__.py\n",
    "    base.py\n",
    "    dev_siddhant.py\n",
    "    dev_jassim.py\n",
    "    local.py\n",
    "    staging.py\n",
    "    test.py\n",
    "    production.py\n",
    "    "
   ]
  },
  {
   "cell_type": "markdown",
   "metadata": {},
   "source": [
    "### Separate Configuration from code\n",
    "\n",
    "1. Secret keys are configuration values, not code.\n",
    "2. They should be kept secret. Keeping them in version control means that everyone with respository access has access to them.\n",
    "3. PAAS(platform as a service) don't give ability to edit code on various severs.Even if they allow it it's  a terribly -dangerous- pratice.\n",
    "\n",
    "4. Most PAAS recommend the use of environment variables for configuration and have builtin features for setting and managing them.\n"
   ]
  },
  {
   "cell_type": "code",
   "execution_count": null,
   "metadata": {},
   "outputs": [],
   "source": [
    "$ export SOME_SECRET_KEY=Lc3-cr43am-15-yummy\n",
    "$ export AUDREY_FREEZER_KEY=Y34h-d0nt=t0ouch-my-lc3-cr34m"
   ]
  },
  {
   "cell_type": "markdown",
   "metadata": {},
   "source": [
    "### How to set Environment Variables in Production"
   ]
  },
  {
   "cell_type": "code",
   "execution_count": null,
   "metadata": {},
   "outputs": [],
   "source": [
    "$ heroku config:set SOME_SECRET_KEY=lc3-cr3am-15-yummy"
   ]
  },
  {
   "cell_type": "code",
   "execution_count": null,
   "metadata": {},
   "outputs": [],
   "source": [
    ">>> import os\n",
    ">>> os.enivron[\"Some_SECRET_KEY\"]\n",
    "\"1c3-cr3am-15-yummy\""
   ]
  },
  {
   "cell_type": "code",
   "execution_count": null,
   "metadata": {},
   "outputs": [],
   "source": [
    "# Top of settings/production.py \n",
    "import os\n",
    "SOME_SECRET_KEY = os.environ[\"SOME_SECRET_KEY\"]\n"
   ]
  },
  {
   "cell_type": "markdown",
   "metadata": {},
   "source": [
    "snippet simply gets the value of the SOME_SECRET_KEY environmental variable from the operating system and saves it to a python variable called SOME_SECRET_KEY.\n"
   ]
  },
  {
   "cell_type": "markdown",
   "metadata": {},
   "source": [
    "### Handling missing secret key exceptions"
   ]
  },
  {
   "cell_type": "code",
   "execution_count": null,
   "metadata": {},
   "outputs": [],
   "source": [
    "# settings/base.py\n",
    "import os \n",
    "\n",
    "# Normally you should not import ANYTHING from django directly into your settings\n",
    "#but ImproperlyConfigured is an exception \n",
    "from django.core.exceptions import Improperly Configured\n",
    "\n",
    "def get_any_variable(var_name):\n",
    "    \"\"\"Get the environment variable or return exception\"\"\"\n",
    "    try:\n",
    "        return os.environ[var_name]\n",
    "    except KeyError:\n",
    "        error_msg = \"Set the {} environment variable\".format(var_name)\n",
    "        raise ImproperlyConfigured(error_msg)"
   ]
  },
  {
   "cell_type": "code",
   "execution_count": null,
   "metadata": {},
   "outputs": [],
   "source": [
    "SOME_SECRET_KEY = get_env_variable(\"SOME_SECRET_KEY\")"
   ]
  },
  {
   "cell_type": "markdown",
   "metadata": {},
   "source": [
    "### Secret files pattern"
   ]
  },
  {
   "cell_type": "code",
   "execution_count": null,
   "metadata": {},
   "outputs": [],
   "source": [
    "# create a file using conf. format of choice JSON YAML XML\n",
    "# Add a secrets loader \n",
    "# Add the secrets file name to the .gitignore or .hgignore\n",
    "# json file -\n",
    "{\n",
    "    \"Filename\": \"\",\n",
    "    \"SECRET_KEY\": \"I've got a secret:\",\n",
    "    \"DATABASES_HOST\": \"127.0.0.1\",\n",
    "    \"PORT\": \"5432\",\n",
    "}\n",
    "\n",
    "# settings/base.py\n",
    "import json\n",
    "from django.core.exceptions import ImproperlyConfigured\n",
    "\n",
    "with open(\"secrets,json\") as f:\n",
    "    secrets = f.loads(f.read())\n",
    "    \n",
    "def get_secret(setting, secrete=secrets):\n",
    "    try:\n",
    "        return(secrets[setting])\n",
    "    except KeyError:\n",
    "        error_msg = \"Set the {} environmental variable\".format(setting)\n",
    "        raise ImproperlyConfigured(error_msg)\n",
    "        \n",
    "SECRET_KEY = get_secret(\"SECRET_KEY\")\n",
    "        "
   ]
  },
  {
   "cell_type": "markdown",
   "metadata": {},
   "source": [
    "### Using Multiple Requirements Files"
   ]
  },
  {
   "cell_type": "markdown",
   "metadata": {},
   "source": [
    "requirements/\n",
    "    \n",
    "    base.txt\n",
    "    local.txt\n",
    "    staging.txt\n",
    "    production.txt"
   ]
  },
  {
   "cell_type": "markdown",
   "metadata": {},
   "source": [
    "In the _base.txt_ file place the dependencies used in all environments\n",
    "Example \n",
    "\n",
    "\n",
    " Django==1.6.0\n",
    " \n",
    " psycopg2==2.5.1\n",
    " \n",
    " South==0.8.4\n",
    " \n",
    "Your _local.txt_ file should have dependencies used for local developments auch as :\n",
    "Example\n",
    " \n",
    " -r base.txt #includes the base.txt requirements file\n",
    " \n",
    " coverage==3.7\n",
    " \n",
    " django-debug-toolbar==0.11\n",
    " \n",
    "### Installing from Multiple Requirements files"
   ]
  },
  {
   "cell_type": "code",
   "execution_count": null,
   "metadata": {},
   "outputs": [],
   "source": [
    "$ pip install -r requirements/local.txt\n",
    "$ pip install -r requirements/production.txt\n"
   ]
  },
  {
   "cell_type": "markdown",
   "metadata": {},
   "source": [
    "### Handling File Paths in Settings\n",
    "Using Unipath"
   ]
  },
  {
   "cell_type": "code",
   "execution_count": null,
   "metadata": {},
   "outputs": [],
   "source": [
    "# at the top of settings/base.py\n",
    "from unipath import Path\n",
    "\n",
    "BASE_DIR = Path(__file__).ancestor(3)\n",
    "MEDIA_ROOT = BASE_DIR.child(\"media\")\n",
    "STATIC_ROOT = BASE_DIR.child(\"static\")\n",
    "STATICFILES_DIRS = (\n",
    "    BASE_DIR.child(\"assets\"),\n",
    ")\n",
    "TEMPLATE_DIRS = (\n",
    "    BASE_DIR.child(\"templates\"),\n",
    ")\n"
   ]
  }
 ],
 "metadata": {
  "kernelspec": {
   "display_name": "Python 3",
   "language": "python",
   "name": "python3"
  },
  "language_info": {
   "codemirror_mode": {
    "name": "ipython",
    "version": 3
   },
   "file_extension": ".py",
   "mimetype": "text/x-python",
   "name": "python",
   "nbconvert_exporter": "python",
   "pygments_lexer": "ipython3",
   "version": "3.6.5"
  }
 },
 "nbformat": 4,
 "nbformat_minor": 2
}

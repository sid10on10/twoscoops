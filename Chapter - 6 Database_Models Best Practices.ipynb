{
 "cells": [
  {
   "cell_type": "markdown",
   "metadata": {},
   "source": [
    "# Best Pratices\n",
    "\n",
    "### Basics\n",
    "1. Five models per app\n",
    "2. Don't drop down to raw sql until it's necessary.\n",
    "3. extra() is nasty and should be avoided, raw() is great and should be used where appropriate.\n",
    "4. add indexes as needed - While adding db.index=True to any model field is easy, understanding when it should be done takes a bit of judgement.Our preference is to start without index and add them as needed.\n",
    "\n",
    "5. when to add index >\n",
    "    There is real data or something that approximates real data, so we can analyze the results of indexing.\n",
    "6. \n"
   ]
  },
  {
   "cell_type": "code",
   "execution_count": null,
   "metadata": {},
   "outputs": [],
   "source": []
  }
 ],
 "metadata": {
  "kernelspec": {
   "display_name": "Python 3",
   "language": "python",
   "name": "python3"
  },
  "language_info": {
   "codemirror_mode": {
    "name": "ipython",
    "version": 3
   },
   "file_extension": ".py",
   "mimetype": "text/x-python",
   "name": "python",
   "nbconvert_exporter": "python",
   "pygments_lexer": "ipython3",
   "version": "3.6.5"
  }
 },
 "nbformat": 4,
 "nbformat_minor": 2
}
